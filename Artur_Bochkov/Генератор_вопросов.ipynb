{
  "nbformat": 4,
  "nbformat_minor": 0,
  "metadata": {
    "colab": {
      "provenance": [],
      "authorship_tag": "ABX9TyMudHHraTCzM7DQtxS1UAUK",
      "include_colab_link": true
    },
    "kernelspec": {
      "name": "python3",
      "display_name": "Python 3"
    },
    "language_info": {
      "name": "python"
    }
  },
  "cells": [
    {
      "cell_type": "markdown",
      "metadata": {
        "id": "view-in-github",
        "colab_type": "text"
      },
      "source": [
        "<a href=\"https://colab.research.google.com/github/ArthurBochkov/Hyperskill-Python/blob/main/Artur_Bochkov/%D0%93%D0%B5%D0%BD%D0%B5%D1%80%D0%B0%D1%82%D0%BE%D1%80_%D0%B2%D0%BE%D0%BF%D1%80%D0%BE%D1%81%D0%BE%D0%B2.ipynb\" target=\"_parent\"><img src=\"https://colab.research.google.com/assets/colab-badge.svg\" alt=\"Open In Colab\"/></a>"
      ]
    },
    {
      "cell_type": "code",
      "execution_count": 4,
      "metadata": {
        "colab": {
          "base_uri": "https://localhost:8080/"
        },
        "id": "m_TnR2FPeVJu",
        "outputId": "c11a4e2f-2c30-492e-d98b-f22f517a6334"
      },
      "outputs": [
        {
          "name": "stdout",
          "output_type": "stream",
          "text": [
            "OpenAI API Key:··········\n"
          ]
        }
      ],
      "source": [
        "!pip install openai -q\n",
        "\n",
        "import getpass\n",
        "import json\n",
        "import openai\n",
        "import os\n",
        "import requests\n",
        "\n",
        "from openai import OpenAI\n",
        "\n",
        "os.environ['OPENAI_API_KEY'] = openai.api_key = getpass.getpass(\"OpenAI API Key:\")"
      ]
    },
    {
      "cell_type": "code",
      "source": [
        "# берем маркированный документ, проходим по каждой теме, формируем вопросы, записываем тему/вопрос/ответ в questions.json\n",
        "\n",
        "url = 'https://drive.google.com/uc?export=download&confirm=no_antivirus&id=1XKdKOZ-RL3eRbqlD7xE2rzifMFnpZ1cy'\n",
        "\n",
        "jfile = {}\n",
        "client = OpenAI()\n",
        "\n",
        "def check(idx, section_content):\n",
        "    section_content = section_content.replace('\\r', '')\n",
        "    section_name = str(idx) + '.'\n",
        "    name = section_content.split('\\n')[0]\n",
        "    text = '\\n'.join(section_content.split('\\n')[1:])\n",
        "    jfile[section_name] = {'name':name, 'text':text, 'questions':[]}\n",
        "\n",
        "    completion = client.chat.completions.create(\n",
        "        model=\"gpt-3.5-turbo\",\n",
        "        messages=[\n",
        "            {\"role\": \"system\", \"content\": \"Ты старательный помощник.\"},\n",
        "            {\"role\": \"user\", \"content\": \"Ниже приведен фрагмент одного из разделов инструкции для сотрудников. Напиши 3 вопроса и ответа по данному разделу для проверки знаний сотрудника. Постарайся формулировать вопрос и ответ максимально полно. В начале каждого вопроса напиши знак %%%. Между вопросом и ответом поставь знак @@@.\\nНумеровать вопросы не надо.\\n\\nРаздел:\\n\" + section_name + \"\\n\\nТекст:\\n\" + text}\n",
        "        ]\n",
        "    )\n",
        "\n",
        "    for qa in completion.choices[0].message.content.split('%%%')[1:]:\n",
        "        question = qa.split('@@@')[0]\n",
        "        answer = qa.split('@@@')[1]\n",
        "        jfile[section_name][f'questions'].append({'вопрос':question.strip(), 'ответ':answer.strip().replace('Ответ: ','')})\n",
        "\n",
        "\n",
        "response = requests.get(url)\n",
        "if response.status_code == 200:\n",
        "    sections = response.text.split('\\n# ')\n",
        "\n",
        "    for idx, section in enumerate(sections[1:],1):\n",
        "        check(idx, section.strip())\n",
        "\n",
        "    with open('questions.json', 'w', encoding='utf8') as json_file:\n",
        "        json.dump(jfile, json_file, indent=4, ensure_ascii=False)\n",
        "    print(\"Результаты сохранены в файл questions.json\")\n",
        "else:\n",
        "    print(\"Не удалось загрузить файл\")"
      ],
      "metadata": {
        "colab": {
          "base_uri": "https://localhost:8080/"
        },
        "id": "iZ0S3kdn1Lyp",
        "outputId": "67afff6e-4f10-4ea3-f1bd-f45cf283960e"
      },
      "execution_count": 2,
      "outputs": [
        {
          "output_type": "stream",
          "name": "stdout",
          "text": [
            "Результаты сохранены в файл questions.json\n"
          ]
        }
      ]
    },
    {
      "cell_type": "code",
      "source": [
        "# формирование файла с вопросами\n",
        "# берем файл questions.json, читаем вопросы, записываем в questions.txt\n",
        "\n",
        "with open('questions.json', encoding='utf8') as f:\n",
        "    answers = json.load(f)\n",
        "\n",
        "with open('questions.txt', 'w', encoding='utf8') as f:\n",
        "    for questions in answers.items():\n",
        "        f.write('\\n' + questions[1]['name'])\n",
        "        for question in questions[1]['questions']:\n",
        "            text = question['вопрос']\n",
        "\n",
        "            # иногда gpt вопреки инструкциям промпта нумерует вопросы, тогда откусываем начало\n",
        "            if text[1:3] == '. ':\n",
        "                text = text[3:]\n",
        "            if text.startswith('Вопрос '):\n",
        "                text = text[10:]\n",
        "            f.write('\\n    ' + text)\n",
        "    print('Создан файл с вопросами questions.txt')"
      ],
      "metadata": {
        "colab": {
          "base_uri": "https://localhost:8080/"
        },
        "id": "CMr9imgbTqQg",
        "outputId": "a6ddfd41-ccbd-4fea-bf91-437397f66c6c"
      },
      "execution_count": 3,
      "outputs": [
        {
          "output_type": "stream",
          "name": "stdout",
          "text": [
            "Создан файл с вопросами questions.txt\n"
          ]
        }
      ]
    }
  ]
}